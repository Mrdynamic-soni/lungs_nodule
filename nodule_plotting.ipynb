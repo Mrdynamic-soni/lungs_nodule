{
 "cells": [
  {
   "cell_type": "code",
   "execution_count": 4,
   "id": "1e391cee",
   "metadata": {},
   "outputs": [],
   "source": [
    "#import libraries\n",
    "import numpy as np\n",
    "import pandas as pd"
   ]
  },
  {
   "cell_type": "code",
   "execution_count": 5,
   "id": "d77d7be8",
   "metadata": {},
   "outputs": [],
   "source": [
    "df = pd.read_csv(\"annotations2.csv\")"
   ]
  },
  {
   "cell_type": "code",
   "execution_count": 6,
   "id": "7e63d16a",
   "metadata": {},
   "outputs": [
    {
     "data": {
      "text/html": [
       "<div>\n",
       "<style scoped>\n",
       "    .dataframe tbody tr th:only-of-type {\n",
       "        vertical-align: middle;\n",
       "    }\n",
       "\n",
       "    .dataframe tbody tr th {\n",
       "        vertical-align: top;\n",
       "    }\n",
       "\n",
       "    .dataframe thead th {\n",
       "        text-align: right;\n",
       "    }\n",
       "</style>\n",
       "<table border=\"1\" class=\"dataframe\">\n",
       "  <thead>\n",
       "    <tr style=\"text-align: right;\">\n",
       "      <th></th>\n",
       "      <th>Index</th>\n",
       "      <th>Patientuid</th>\n",
       "      <th>coordX</th>\n",
       "      <th>coordY</th>\n",
       "      <th>coordZ</th>\n",
       "      <th>Nodule_diameter_mm</th>\n",
       "    </tr>\n",
       "  </thead>\n",
       "  <tbody>\n",
       "    <tr>\n",
       "      <th>0</th>\n",
       "      <td>0</td>\n",
       "      <td>1.3.6.1.4.1.14519.5.2.1.6279.6001.100225287222...</td>\n",
       "      <td>-128.699421</td>\n",
       "      <td>-175.319272</td>\n",
       "      <td>-298.387506</td>\n",
       "      <td>5.651471</td>\n",
       "    </tr>\n",
       "    <tr>\n",
       "      <th>1</th>\n",
       "      <td>1</td>\n",
       "      <td>1.3.6.1.4.1.14519.5.2.1.6279.6001.100225287222...</td>\n",
       "      <td>103.783651</td>\n",
       "      <td>-211.925149</td>\n",
       "      <td>-227.121250</td>\n",
       "      <td>4.224708</td>\n",
       "    </tr>\n",
       "    <tr>\n",
       "      <th>2</th>\n",
       "      <td>2</td>\n",
       "      <td>1.3.6.1.4.1.14519.5.2.1.6279.6001.100398138793...</td>\n",
       "      <td>69.639017</td>\n",
       "      <td>-140.944586</td>\n",
       "      <td>876.374496</td>\n",
       "      <td>5.786348</td>\n",
       "    </tr>\n",
       "    <tr>\n",
       "      <th>3</th>\n",
       "      <td>3</td>\n",
       "      <td>1.3.6.1.4.1.14519.5.2.1.6279.6001.100621383016...</td>\n",
       "      <td>-24.013824</td>\n",
       "      <td>192.102405</td>\n",
       "      <td>-391.081276</td>\n",
       "      <td>8.143262</td>\n",
       "    </tr>\n",
       "    <tr>\n",
       "      <th>4</th>\n",
       "      <td>4</td>\n",
       "      <td>1.3.6.1.4.1.14519.5.2.1.6279.6001.100621383016...</td>\n",
       "      <td>2.441547</td>\n",
       "      <td>172.464881</td>\n",
       "      <td>-405.493732</td>\n",
       "      <td>18.545150</td>\n",
       "    </tr>\n",
       "    <tr>\n",
       "      <th>...</th>\n",
       "      <td>...</td>\n",
       "      <td>...</td>\n",
       "      <td>...</td>\n",
       "      <td>...</td>\n",
       "      <td>...</td>\n",
       "      <td>...</td>\n",
       "    </tr>\n",
       "    <tr>\n",
       "      <th>1662</th>\n",
       "      <td>1662</td>\n",
       "      <td>1.3.6.1.4.1.14519.5.2.1.6279.6001.997611074084...</td>\n",
       "      <td>-89.341231</td>\n",
       "      <td>-80.316972</td>\n",
       "      <td>-1054.360708</td>\n",
       "      <td>10.467386</td>\n",
       "    </tr>\n",
       "    <tr>\n",
       "      <th>1663</th>\n",
       "      <td>1663</td>\n",
       "      <td>1.3.6.1.4.1.14519.5.2.1.6279.6001.997611074084...</td>\n",
       "      <td>-112.230469</td>\n",
       "      <td>-176.886719</td>\n",
       "      <td>-101.500000</td>\n",
       "      <td>17.691944</td>\n",
       "    </tr>\n",
       "    <tr>\n",
       "      <th>1664</th>\n",
       "      <td>1664</td>\n",
       "      <td>1.3.6.1.4.1.14519.5.2.1.6279.6001.997611074084...</td>\n",
       "      <td>-114.468750</td>\n",
       "      <td>-158.607422</td>\n",
       "      <td>-89.000000</td>\n",
       "      <td>9.868666</td>\n",
       "    </tr>\n",
       "    <tr>\n",
       "      <th>1665</th>\n",
       "      <td>1665</td>\n",
       "      <td>1.3.6.1.4.1.14519.5.2.1.6279.6001.997611074084...</td>\n",
       "      <td>-107.380859</td>\n",
       "      <td>-164.949219</td>\n",
       "      <td>-87.000000</td>\n",
       "      <td>8.969625</td>\n",
       "    </tr>\n",
       "    <tr>\n",
       "      <th>1666</th>\n",
       "      <td>1666</td>\n",
       "      <td>1.3.6.1.4.1.14519.5.2.1.6279.6001.997611074084...</td>\n",
       "      <td>-105.142578</td>\n",
       "      <td>-183.974609</td>\n",
       "      <td>-46.500000</td>\n",
       "      <td>7.920586</td>\n",
       "    </tr>\n",
       "  </tbody>\n",
       "</table>\n",
       "<p>1667 rows × 6 columns</p>\n",
       "</div>"
      ],
      "text/plain": [
       "      Index                                         Patientuid      coordX  \\\n",
       "0         0  1.3.6.1.4.1.14519.5.2.1.6279.6001.100225287222... -128.699421   \n",
       "1         1  1.3.6.1.4.1.14519.5.2.1.6279.6001.100225287222...  103.783651   \n",
       "2         2  1.3.6.1.4.1.14519.5.2.1.6279.6001.100398138793...   69.639017   \n",
       "3         3  1.3.6.1.4.1.14519.5.2.1.6279.6001.100621383016...  -24.013824   \n",
       "4         4  1.3.6.1.4.1.14519.5.2.1.6279.6001.100621383016...    2.441547   \n",
       "...     ...                                                ...         ...   \n",
       "1662   1662  1.3.6.1.4.1.14519.5.2.1.6279.6001.997611074084...  -89.341231   \n",
       "1663   1663  1.3.6.1.4.1.14519.5.2.1.6279.6001.997611074084... -112.230469   \n",
       "1664   1664  1.3.6.1.4.1.14519.5.2.1.6279.6001.997611074084... -114.468750   \n",
       "1665   1665  1.3.6.1.4.1.14519.5.2.1.6279.6001.997611074084... -107.380859   \n",
       "1666   1666  1.3.6.1.4.1.14519.5.2.1.6279.6001.997611074084... -105.142578   \n",
       "\n",
       "          coordY       coordZ  Nodule_diameter_mm  \n",
       "0    -175.319272  -298.387506            5.651471  \n",
       "1    -211.925149  -227.121250            4.224708  \n",
       "2    -140.944586   876.374496            5.786348  \n",
       "3     192.102405  -391.081276            8.143262  \n",
       "4     172.464881  -405.493732           18.545150  \n",
       "...          ...          ...                 ...  \n",
       "1662  -80.316972 -1054.360708           10.467386  \n",
       "1663 -176.886719  -101.500000           17.691944  \n",
       "1664 -158.607422   -89.000000            9.868666  \n",
       "1665 -164.949219   -87.000000            8.969625  \n",
       "1666 -183.974609   -46.500000            7.920586  \n",
       "\n",
       "[1667 rows x 6 columns]"
      ]
     },
     "execution_count": 6,
     "metadata": {},
     "output_type": "execute_result"
    }
   ],
   "source": [
    "df"
   ]
  },
  {
   "cell_type": "code",
   "execution_count": 7,
   "id": "f5f83015",
   "metadata": {},
   "outputs": [
    {
     "data": {
      "text/plain": [
       "0       1.3.6.1.4.1.14519.5.2.1.6279.6001.100225287222...\n",
       "1       1.3.6.1.4.1.14519.5.2.1.6279.6001.100225287222...\n",
       "2       1.3.6.1.4.1.14519.5.2.1.6279.6001.100398138793...\n",
       "3       1.3.6.1.4.1.14519.5.2.1.6279.6001.100621383016...\n",
       "4       1.3.6.1.4.1.14519.5.2.1.6279.6001.100621383016...\n",
       "                              ...                        \n",
       "1662    1.3.6.1.4.1.14519.5.2.1.6279.6001.997611074084...\n",
       "1663    1.3.6.1.4.1.14519.5.2.1.6279.6001.997611074084...\n",
       "1664    1.3.6.1.4.1.14519.5.2.1.6279.6001.997611074084...\n",
       "1665    1.3.6.1.4.1.14519.5.2.1.6279.6001.997611074084...\n",
       "1666    1.3.6.1.4.1.14519.5.2.1.6279.6001.997611074084...\n",
       "Name: Patientuid, Length: 1667, dtype: object"
      ]
     },
     "execution_count": 7,
     "metadata": {},
     "output_type": "execute_result"
    }
   ],
   "source": [
    "df[\"Patientuid\"]"
   ]
  },
  {
   "cell_type": "code",
   "execution_count": null,
   "id": "750bbabd",
   "metadata": {},
   "outputs": [],
   "source": []
  },
  {
   "cell_type": "code",
   "execution_count": 8,
   "id": "b742300a",
   "metadata": {},
   "outputs": [
    {
     "data": {
      "text/plain": [
       "'1.3.6.1.4.1.14519.5.2.1.6279.6001.100225287222365663678666836860'"
      ]
     },
     "execution_count": 8,
     "metadata": {},
     "output_type": "execute_result"
    }
   ],
   "source": [
    "df[\"Patientuid\"][0]"
   ]
  },
  {
   "cell_type": "code",
   "execution_count": 10,
   "id": "1d955e00",
   "metadata": {},
   "outputs": [
    {
     "data": {
      "text/plain": [
       "Text(0, 0.5, 'Nodule_diameter_mm')"
      ]
     },
     "execution_count": 10,
     "metadata": {},
     "output_type": "execute_result"
    },
    {
     "data": {
      "image/png": "[encoded data removed]",
      "text/plain": [
       "<Figure size 432x288 with 1 Axes>"
      ]
     },
     "metadata": {
      "needs_background": "light"
     },
     "output_type": "display_data"
    }
   ],
   "source": [
    "from matplotlib import pyplot as plt\n",
    "plt.scatter(df[\"Patientuid\"],df[\"Nodule_diameter_mm\"],color=\"green\",marker=\"+\")\n",
    "plt.xlabel(\"Patientuid\")\n",
    "plt.ylabel(\"Nodule_diameter_mm\")"
   ]
  },
  {
   "cell_type": "code",
   "execution_count": null,
   "id": "d29a62df",
   "metadata": {},
   "outputs": [],
   "source": []
  }
 ],
 "metadata": {
  "kernelspec": {
   "display_name": "Python 3 (ipykernel)",
   "language": "python",
   "name": "python3"
  },
  "language_info": {
   "codemirror_mode": {
    "name": "ipython",
    "version": 3
   },
   "file_extension": ".py",
   "mimetype": "text/x-python",
   "name": "python",
   "nbconvert_exporter": "python",
   "pygments_lexer": "ipython3",
   "version": "3.9.7"
  }
 },
 "nbformat": 4,
 "nbformat_minor": 5
}
